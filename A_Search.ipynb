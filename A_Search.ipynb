{
  "nbformat": 4,
  "nbformat_minor": 0,
  "metadata": {
    "colab": {
      "provenance": [],
      "authorship_tag": "ABX9TyPgcCXw71w7HpNcRK/paZKG",
      "include_colab_link": true
    },
    "kernelspec": {
      "name": "python3",
      "display_name": "Python 3"
    },
    "language_info": {
      "name": "python"
    }
  },
  "cells": [
    {
      "cell_type": "markdown",
      "metadata": {
        "id": "view-in-github",
        "colab_type": "text"
      },
      "source": [
        "<a href=\"https://colab.research.google.com/github/prema0207/AIML/blob/main/A_Search.ipynb\" target=\"_parent\"><img src=\"https://colab.research.google.com/assets/colab-badge.svg\" alt=\"Open In Colab\"/></a>"
      ]
    },
    {
      "cell_type": "code",
      "execution_count": 19,
      "metadata": {
        "colab": {
          "base_uri": "https://localhost:8080/"
        },
        "id": "1x86HfV5enm-",
        "outputId": "ccaa614e-bc8a-4216-f0c9-2713d4d50e1c"
      },
      "outputs": [
        {
          "output_type": "stream",
          "name": "stdout",
          "text": [
            "['A', 'B', 'C', 'E']\n"
          ]
        }
      ],
      "source": [
        "import heapq\n",
        "class Node:\n",
        "  def __init__ (self, state, parent, cost, heuristic):\n",
        "   self.state = state\n",
        "   self.parent = parent\n",
        "   self.cost = cost\n",
        "   self.heuristic = heuristic\n",
        "  def __lt__(self, other):\n",
        "    return (self.cost + self.heuristic) < (other.cost + other.heuristic)\n",
        "def astar(start, goal, graph):\n",
        "   heap = []\n",
        "   heapq.heappush(heap, (0, Node(start, None, 0, 0)))\n",
        "   visited = set()\n",
        "   while heap:\n",
        "     (cost, current) = heapq.heappop(heap)\n",
        "     if current.state == goal:\n",
        "          path = []\n",
        "          while current is not None:\n",
        "             path.append(current.state)\n",
        "             current = current.parent\n",
        "          return path[::-1]\n",
        "     if current.state in visited:\n",
        "          continue\n",
        "     visited.add(current.state)\n",
        "     for state, cost in graph[current.state].items():\n",
        "          if state not in visited:\n",
        "              heuristic = 0\n",
        "              heapq.heappush(heap, (cost, Node(state, current, current.cost + cost, heuristic)))\n",
        "   return None\n",
        "graph = {\n",
        " 'A': {'B': 1, 'D': 3},\n",
        " 'B': {'A': 1, 'C': 2, 'D': 4},\n",
        " 'C': {'B': 2, 'D': 5, 'E': 2},\n",
        " 'D': {'A': 3, 'B': 4, 'C': 5, 'E': 3},\n",
        " 'E': {'C': 2, 'D': 3}\n",
        " }\n",
        "start = 'A'\n",
        "goal = 'E'\n",
        "result = astar(start, goal, graph)\n",
        "print(result)"
      ]
    },
    {
      "cell_type": "code",
      "source": [
        "import heapq\n",
        "class Node:\n",
        "  def __init__(self, state, parent, cost, heuristic):\n",
        "    self.state = state\n",
        "    self.parent = parent\n",
        "    self.cost = cost\n",
        "    self.heuristic = heuristic\n",
        "  def __lt__(self, other):\n",
        "    return (self.cost + self.heuristic) < (other.cost + other.heuristic)\n",
        "def astar(start, goal, graph, max_nodes):\n",
        "   heap = []\n",
        "   heapq.heappush(heap, (0, Node(start, None, 0, 0)))\n",
        "   visited = set()\n",
        "   node_counter = 0\n",
        "   while heap and node_counter < max_nodes:\n",
        "       (cost, current) = heapq.heappop(heap)\n",
        "       if current.state == goal:\n",
        "          path = []\n",
        "          while current is not None:\n",
        "             path.append(current.state)\n",
        "             current = current.parent\n",
        "          return path[::-1]\n",
        "       if current.state in visited:\n",
        "          continue\n",
        "       visited.add(current.state)\n",
        "       node_counter += 1\n",
        "       for state, cost in graph[current.state].items():\n",
        "             if state not in visited:\n",
        "                heuristic = 0\n",
        "                heapq.heappush(heap, (cost, Node(state, current, current.cost + cost, heuristic)))\n",
        "   return None\n",
        "graph = {'A': {'B': 1, 'C': 4},\n",
        "  'B': {'A': 1, 'C': 2, 'D': 5},\n",
        "  'C': {'A': 4, 'B': 2, 'D': 1},\n",
        "  'D': {'B': 5, 'C': 1}}\n",
        "start = 'A'\n",
        "goal = 'D'\n",
        "max_nodes = 10\n",
        "result = astar(start, goal, graph, max_nodes)\n",
        "print(result)\n"
      ],
      "metadata": {
        "colab": {
          "base_uri": "https://localhost:8080/"
        },
        "id": "HIXJ4TNFh_k_",
        "outputId": "3907f2a5-7c0d-4386-dcfc-33b8f5ee5946"
      },
      "execution_count": 39,
      "outputs": [
        {
          "output_type": "stream",
          "name": "stdout",
          "text": [
            "['A', 'B', 'C', 'D']\n"
          ]
        }
      ]
    }
  ]
}
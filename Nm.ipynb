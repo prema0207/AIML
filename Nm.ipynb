{
  "nbformat": 4,
  "nbformat_minor": 0,
  "metadata": {
    "colab": {
      "provenance": [],
      "authorship_tag": "ABX9TyNbO19s87m+NeH35TtkP+E3",
      "include_colab_link": true
    },
    "kernelspec": {
      "name": "python3",
      "display_name": "Python 3"
    },
    "language_info": {
      "name": "python"
    }
  },
  "cells": [
    {
      "cell_type": "markdown",
      "metadata": {
        "id": "view-in-github",
        "colab_type": "text"
      },
      "source": [
        "<a href=\"https://colab.research.google.com/github/prema0207/AIML/blob/main/Nm.ipynb\" target=\"_parent\"><img src=\"https://colab.research.google.com/assets/colab-badge.svg\" alt=\"Open In Colab\"/></a>"
      ]
    },
    {
      "cell_type": "code",
      "execution_count": 2,
      "metadata": {
        "colab": {
          "base_uri": "https://localhost:8080/"
        },
        "id": "b6kmDWx9tBeb",
        "outputId": "ea6d3092-0172-4d89-dea6-88934918c111"
      },
      "outputs": [
        {
          "output_type": "stream",
          "name": "stdout",
          "text": [
            "[Step 1] Distance from obstacle: 17 cm\n",
            "Stopping due to obstacle!\n",
            "Turning left...\n",
            "[Step 2] Distance from obstacle: 19 cm\n",
            "Stopping due to obstacle!\n",
            "Turning left...\n",
            "[Step 3] Distance from obstacle: 60 cm\n",
            "Moving forward...\n",
            "[Step 4] Distance from obstacle: 100 cm\n",
            "Moving forward...\n",
            "[Step 5] Distance from obstacle: 8 cm\n",
            "Stopping due to obstacle!\n",
            "Turning right...\n",
            "[Step 6] Distance from obstacle: 20 cm\n",
            "Moving forward...\n",
            "[Step 7] Distance from obstacle: 10 cm\n",
            "Stopping due to obstacle!\n",
            "Turning left...\n",
            "[Step 8] Distance from obstacle: 39 cm\n",
            "Moving forward...\n",
            "[Step 9] Distance from obstacle: 49 cm\n",
            "Moving forward...\n",
            "[Step 10] Distance from obstacle: 51 cm\n",
            "Moving forward...\n"
          ]
        }
      ],
      "source": [
        "import random\n",
        "import time\n",
        "\n",
        "def read_sensor():\n",
        "    # Simulate distance from sensor in cm\n",
        "    return random.randint(5, 100)\n",
        "\n",
        "def move_forward():\n",
        "    print(\"Moving forward...\")\n",
        "\n",
        "def turn_left():\n",
        "    print(\"Turning left...\")\n",
        "\n",
        "def turn_right():\n",
        "    print(\"Turning right...\")\n",
        "\n",
        "def stop():\n",
        "    print(\"Stopping due to obstacle!\")\n",
        "\n",
        "def obstacle_avoiding_robot():\n",
        "    for step in range(10):\n",
        "        distance = read_sensor()\n",
        "        print(f\"[Step {step+1}] Distance from obstacle: {distance} cm\")\n",
        "\n",
        "        if distance < 20:\n",
        "            stop()\n",
        "            direction = random.choice(['left', 'right'])\n",
        "            if direction == 'left':\n",
        "                turn_left()\n",
        "            else:\n",
        "                turn_right()\n",
        "        else:\n",
        "            move_forward()\n",
        "\n",
        "        time.sleep(1)\n",
        "\n",
        "obstacle_avoiding_robot()"
      ]
    },
    {
      "cell_type": "code",
      "source": [
        "def read_left_sensor():\n",
        "    # Simulates whether the left sensor is on the black line (1) or not (0)\n",
        "    return int(input(\"Left sensor (1 for black, 0 for white): \"))\n",
        "\n",
        "def read_right_sensor():\n",
        "    return int(input(\"Right sensor (1 for black, 0 for white): \"))\n",
        "\n",
        "def follow_line():\n",
        "    print(\"Starting line-following robot...\")\n",
        "    for step in range(5):\n",
        "        left = read_left_sensor()\n",
        "        right = read_right_sensor()\n",
        "\n",
        "        if left == 1 and right == 1:\n",
        "            print(\"Move forward\")\n",
        "        elif left == 1 and right == 0:\n",
        "            print(\"Turn slightly left\")\n",
        "        elif left == 0 and right == 1:\n",
        "            print(\"Turn slightly right\")\n",
        "        else:\n",
        "            print(\"Stop or search for line\")\n",
        "\n",
        "follow_line()"
      ],
      "metadata": {
        "colab": {
          "base_uri": "https://localhost:8080/"
        },
        "id": "mLZzuFT0vB1g",
        "outputId": "d904b39f-84dd-420e-c29b-67bf7aed5e08"
      },
      "execution_count": 5,
      "outputs": [
        {
          "output_type": "stream",
          "name": "stdout",
          "text": [
            "Starting line-following robot...\n",
            "Left sensor (1 for black, 0 for white): 1\n",
            "Right sensor (1 for black, 0 for white): 1\n",
            "Move forward\n",
            "Left sensor (1 for black, 0 for white): 1\n",
            "Right sensor (1 for black, 0 for white): 0\n",
            "Turn slightly left\n",
            "Left sensor (1 for black, 0 for white): 0\n",
            "Right sensor (1 for black, 0 for white): 1\n",
            "Turn slightly right\n",
            "Left sensor (1 for black, 0 for white): 0\n",
            "Right sensor (1 for black, 0 for white): 0\n",
            "Left sensor (1 for black, 0 for white): 1\n",
            "Stop or search for line\n",
            "Right sensor (1 for black, 0 for white): 1\n",
            "Move forward\n"
          ]
        }
      ]
    }
  ]
}
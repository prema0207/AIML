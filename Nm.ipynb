{
  "nbformat": 4,
  "nbformat_minor": 0,
  "metadata": {
    "colab": {
      "provenance": [],
      "authorship_tag": "ABX9TyN3qIgGcsJDpMgLj5u0zQJV",
      "include_colab_link": true
    },
    "kernelspec": {
      "name": "python3",
      "display_name": "Python 3"
    },
    "language_info": {
      "name": "python"
    }
  },
  "cells": [
    {
      "cell_type": "markdown",
      "metadata": {
        "id": "view-in-github",
        "colab_type": "text"
      },
      "source": [
        "<a href=\"https://colab.research.google.com/github/prema0207/AIML/blob/main/Nm.ipynb\" target=\"_parent\"><img src=\"https://colab.research.google.com/assets/colab-badge.svg\" alt=\"Open In Colab\"/></a>"
      ]
    },
    {
      "cell_type": "code",
      "execution_count": 1,
      "metadata": {
        "colab": {
          "base_uri": "https://localhost:8080/"
        },
        "id": "b6kmDWx9tBeb",
        "outputId": "4f625f27-2425-4268-9b99-387fe0388f85"
      },
      "outputs": [
        {
          "output_type": "stream",
          "name": "stdout",
          "text": [
            "[Step 1] Distance from obstacle: 57 cm\n",
            "Moving forward...\n",
            "[Step 2] Distance from obstacle: 71 cm\n",
            "Moving forward...\n",
            "[Step 3] Distance from obstacle: 46 cm\n",
            "Moving forward...\n",
            "[Step 4] Distance from obstacle: 85 cm\n",
            "Moving forward...\n",
            "[Step 5] Distance from obstacle: 96 cm\n",
            "Moving forward...\n",
            "[Step 6] Distance from obstacle: 79 cm\n",
            "Moving forward...\n",
            "[Step 7] Distance from obstacle: 17 cm\n",
            "Stopping due to obstacle!\n",
            "Turning right...\n",
            "[Step 8] Distance from obstacle: 9 cm\n",
            "Stopping due to obstacle!\n",
            "Turning left...\n",
            "[Step 9] Distance from obstacle: 61 cm\n",
            "Moving forward...\n",
            "[Step 10] Distance from obstacle: 69 cm\n",
            "Moving forward...\n"
          ]
        }
      ],
      "source": [
        "import random\n",
        "import time\n",
        "\n",
        "def read_sensor():\n",
        "    # Simulate distance from sensor in cm\n",
        "    return random.randint(5, 100)\n",
        "\n",
        "def move_forward():\n",
        "    print(\"Moving forward...\")\n",
        "\n",
        "def turn_left():\n",
        "    print(\"Turning left...\")\n",
        "\n",
        "def turn_right():\n",
        "    print(\"Turning right...\")\n",
        "\n",
        "def stop():\n",
        "    print(\"Stopping due to obstacle!\")\n",
        "\n",
        "def obstacle_avoiding_robot():\n",
        "    for step in range(10):\n",
        "        distance = read_sensor()\n",
        "        print(f\"[Step {step+1}] Distance from obstacle: {distance} cm\")\n",
        "\n",
        "        if distance < 20:\n",
        "            stop()\n",
        "            direction = random.choice(['left', 'right'])\n",
        "            if direction == 'left':\n",
        "                turn_left()\n",
        "            else:\n",
        "                turn_right()\n",
        "        else:\n",
        "            move_forward()\n",
        "\n",
        "        time.sleep(1)\n",
        "\n",
        "obstacle_avoiding_robot()"
      ]
    },
    {
      "cell_type": "markdown",
      "source": [],
      "metadata": {
        "id": "dIjV4RKOtvud"
      }
    },
    {
      "cell_type": "markdown",
      "source": [],
      "metadata": {
        "id": "6ULNGeVct2HB"
      }
    },
    {
      "cell_type": "markdown",
      "source": [],
      "metadata": {
        "id": "aJlcWYMDt2z2"
      }
    }
  ]
}